{
 "cells": [
  {
   "cell_type": "code",
   "execution_count": 1,
   "id": "db690bad",
   "metadata": {},
   "outputs": [],
   "source": [
    "import torch"
   ]
  },
  {
   "cell_type": "code",
   "execution_count": 2,
   "id": "4cc2ce7e",
   "metadata": {},
   "outputs": [
    {
     "name": "stdout",
     "output_type": "stream",
     "text": [
      "Importing Model\n",
      "Model Imported\n",
      "Importing Modules\n",
      "Modules Imported\n"
     ]
    }
   ],
   "source": [
    "print(\"Importing Model\")\n",
    "import intent_model\n",
    "print(\"Model Imported\")\n",
    "print(\"Importing Modules\")\n",
    "from weather import get_weather\n",
    "from joke import get_joke\n",
    "from dictionary import get_meaning\n",
    "from horoscope import get_horoscope\n",
    "from translation import translate_text\n",
    "print(\"Modules Imported\")"
   ]
  },
  {
   "cell_type": "code",
   "execution_count": 3,
   "id": "ac5d9850",
   "metadata": {},
   "outputs": [],
   "source": [
    "import json\n",
    "\n",
    "# Load and parse the JSON file\n",
    "with open('intents_en.json', 'r') as file:\n",
    "    intents_json = json.load(file)"
   ]
  },
  {
   "cell_type": "code",
   "execution_count": 4,
   "id": "05205bcf",
   "metadata": {},
   "outputs": [],
   "source": [
    "import random\n",
    "\n",
    "def get_response(tag):\n",
    "    for intent in intents_json['intents']:\n",
    "        if tag == intent['tag']:\n",
    "            return random.choice(intent['responses'])"
   ]
  },
  {
   "cell_type": "code",
   "execution_count": 5,
   "id": "502ba5e2",
   "metadata": {},
   "outputs": [],
   "source": [
    "def language_selector():\n",
    "    # Dictionary mapping language names to their short forms\n",
    "    languages = {\n",
    "        \"afrikaans\": \"af\", \"amharic\": \"am\", \"arabic\": \"ar\", \"asturian\": \"ast\", \n",
    "        \"azerbaijani\": \"az\", \"bashkir\": \"ba\", \"belarusian\": \"be\", \"bulgarian\": \"bg\", \n",
    "        \"bengali\": \"bn\", \"breton\": \"br\", \"bosnian\": \"bs\", \"catalan; valencian\": \"ca\", \n",
    "        \"cebuano\": \"ceb\", \"czech\": \"cs\", \"welsh\": \"cy\", \"danish\": \"da\", \n",
    "        \"german\": \"de\", \"greeek\": \"el\", \"english\": \"en\", \"spanish\": \"es\", \n",
    "        \"estonian\": \"et\", \"persian\": \"fa\", \"fulah\": \"ff\", \"finnish\": \"fi\", \n",
    "        \"french\": \"fr\", \"western frisian\": \"fy\", \"irish\": \"ga\", \"gaelic; scottish gaelic\": \"gd\", \n",
    "        \"galician\": \"gl\", \"gujarati\": \"gu\", \"hausa\": \"ha\", \"hebrew\": \"he\", \n",
    "        \"hindi\": \"hi\", \"croatian\": \"hr\", \"haitian; haitian creole\": \"ht\", \"hungarian\": \"hu\", \n",
    "        \"armenian\": \"hy\", \"indonesian\": \"id\", \"igbo\": \"ig\", \"iloko\": \"ilo\", \n",
    "        \"icelandic\": \"is\", \"italian\": \"it\", \"japanese\": \"ja\", \"javanese\": \"jv\", \n",
    "        \"georgian\": \"ka\", \"kazakh\": \"kk\", \"central khmer\": \"km\", \"kannada\": \"kn\", \n",
    "        \"korean\": \"ko\", \"luxembourgish; letzeburgesch\": \"lb\", \"ganda\": \"lg\", \"lingala\": \"ln\", \n",
    "        \"lao\": \"lo\", \"lithuanian\": \"lt\", \"latvian\": \"lv\", \"malagasy\": \"mg\", \n",
    "        \"macedonian\": \"mk\", \"malayalam\": \"ml\", \"mongolian\": \"mn\", \"marathi\": \"mr\", \n",
    "        \"malay\": \"ms\", \"burmese\": \"my\", \"nepali\": \"ne\", \"dutch; flemish\": \"nl\", \n",
    "        \"norwegian\": \"no\", \"northern sotho\": \"ns\", \"occitan (post 1500)\": \"oc\", \"oriya\": \"or\", \n",
    "        \"panjabi; punjabi\": \"pa\", \"polish\": \"pl\", \"pushto; pashto\": \"ps\", \"portuguese\": \"pt\", \n",
    "        \"romanian; moldavian; moldovan\": \"ro\", \"russian\": \"ru\", \"sindhi\": \"sd\", \n",
    "        \"sinhala; sinhalese\": \"si\", \"slovak\": \"sk\", \"slovenian\": \"sl\", \"somali\": \"so\", \n",
    "        \"albanian\": \"sq\", \"serbian\": \"sr\", \"swati\": \"ss\", \"sundanese\": \"su\", \n",
    "        \"swedish\": \"sv\", \"swahili\": \"sw\", \"tamil\": \"ta\", \"thai\": \"th\", \n",
    "        \"tagalog\": \"tl\", \"tswana\": \"tn\", \"turkish\": \"tr\", \"ukrainian\": \"uk\", \n",
    "        \"urdu\": \"ur\", \"uzbek\": \"uz\", \"vietnamese\": \"vi\", \"wolof\": \"wo\", \n",
    "        \"xhosa\": \"xh\", \"yiddish\": \"yi\", \"yoruba\": \"yo\", \"chinese\": \"zh\", \"zulu\": \"zu\"\n",
    "    }\n",
    "\n",
    "    while True:\n",
    "        # Ask the user to input a language\n",
    "        language = input().strip().lower()\n",
    "\n",
    "        # Check if the language is in the dictionary\n",
    "        if language in languages:\n",
    "            return languages[language]\n",
    "        else:\n",
    "            print(\"Invalid input. Please try again.\")"
   ]
  },
  {
   "cell_type": "code",
   "execution_count": 7,
   "id": "df951503",
   "metadata": {},
   "outputs": [
    {
     "name": "stdout",
     "output_type": "stream",
     "text": [
      "Enter Input Language: english\n",
      "Enter Reply Language: english\n",
      "You: joke\n",
      "Predicted tag: joke\n"
     ]
    },
    {
     "name": "stderr",
     "output_type": "stream",
     "text": [
      "/bin/sh: line 1: google-chrome: command not found\n",
      "/bin/sh: line 1: google-chrome: command not found\n"
     ]
    },
    {
     "name": "stdout",
     "output_type": "stream",
     "text": [
      "I went a wise man the other day for advice and he said, \"He who knows and knows he knows, he knows not; he who knows not and knows he knows not, he knows.\"I don't know who will do my taxes next year, but I know it won't be him again.\n",
      "You: thanks\n",
      "Predicted tag: thanks\n",
      "Chatbot: Glad I could help you\n",
      "You: bye\n",
      "Predicted tag: goodbye\n",
      "Chatbot: Goodbye! come back soon.\n"
     ]
    }
   ],
   "source": [
    "# Chatbot interaction\n",
    "print(\"Enter Input Language: \", end=\"\")\n",
    "src_lang = language_selector()\n",
    "print(\"Enter Reply Language: \", end=\"\")\n",
    "tgt_lang = language_selector()\n",
    "\n",
    "while True:\n",
    "    sentence = input(\"You: \")\n",
    "    tag = intent_model.predict(intent_model.model\\\n",
    "                               , sentence\\\n",
    "                               , intent_model.all_words\\\n",
    "                               , intent_model.tags\\\n",
    "                               , intent_model.device)\n",
    "    print(f\"Predicted tag: {tag}\")\n",
    "    if tag == \"joke\":\n",
    "        print(f\"{translate_text(get_joke(), src_lang, tgt_lang)}\")\n",
    "    elif tag == \"weather\":\n",
    "        print(f\"{translate_text(get_weather(), src_lang, tgt_lang)}F\")\n",
    "    elif tag == \"horoscope\":\n",
    "        print(f\"{translate_text(get_horoscope(), src_lang, tgt_lang)}\")\n",
    "    elif tag == \"dictionary\":\n",
    "        print(f\"{translate_text(get_meaning(), src_lang, tgt_lang)}\")\n",
    "    elif tag == \"sudoku\":\n",
    "        ## TO DO\n",
    "        print(\"Sudoku\")\n",
    "    elif tag == \"goodbye\":\n",
    "        response = get_response(tag)\n",
    "        print(f\"Chatbot: {translate_text(response, src_lang, tgt_lang)}\")\n",
    "        break\n",
    "    else:\n",
    "        response = get_response(tag)\n",
    "        print(f\"Chatbot: {translate_text(response, src_lang, tgt_lang)}\")"
   ]
  },
  {
   "cell_type": "code",
   "execution_count": null,
   "id": "d5b32765",
   "metadata": {},
   "outputs": [],
   "source": []
  }
 ],
 "metadata": {
  "kernelspec": {
   "display_name": "Python 3 (ipykernel)",
   "language": "python",
   "name": "python3"
  },
  "language_info": {
   "codemirror_mode": {
    "name": "ipython",
    "version": 3
   },
   "file_extension": ".py",
   "mimetype": "text/x-python",
   "name": "python",
   "nbconvert_exporter": "python",
   "pygments_lexer": "ipython3",
   "version": "3.11.5"
  }
 },
 "nbformat": 4,
 "nbformat_minor": 5
}
