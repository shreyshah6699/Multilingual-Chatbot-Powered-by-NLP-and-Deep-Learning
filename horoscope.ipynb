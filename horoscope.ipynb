{
 "cells": [
  {
   "cell_type": "code",
   "execution_count": 13,
   "id": "dff515e4",
   "metadata": {},
   "outputs": [],
   "source": [
    "from selenium import webdriver\n",
    "from selenium.webdriver.common.keys import Keys\n",
    "from selenium.webdriver.common.by import By\n",
    "from selenium.webdriver.support.ui import WebDriverWait\n",
    "from selenium.webdriver.support import expected_conditions as EC\n",
    "from selenium.webdriver.chrome.service import Service\n",
    "from webdriver_manager.chrome import ChromeDriverManager\n",
    "from selenium.webdriver.chrome.options import Options\n",
    "import time\n",
    "\n",
    "def get_horoscope():\n",
    "    sign = \"Aquarius\" #input(\"Enter Sun Sign: \")\n",
    "    \n",
    "    ublock_path = 'uBlock-Origin.crx'\n",
    "\n",
    "    chrome_options = Options()\n",
    "    chrome_options.add_extension(ublock_path)\n",
    "\n",
    "    driver = webdriver.Chrome(service=Service(ChromeDriverManager().install()), options=chrome_options)    # driver.set_page_load_timeout(10)  # Set the timeout\n",
    "    driver.get(f\"https://www.washingtonpost.com/entertainment/horoscopes/{sign.lower()}/\")\n",
    "    \n",
    "    time.sleep(3)  # Wait for the page to load\n",
    "\n",
    "    class_name = \"mt-sm.mb-sm.font-sm.gray-dark\"\n",
    "    horoscope_element = driver.find_element(By.CLASS_NAME, class_name)\n",
    "    horoscope_text = horoscope_element.text\n",
    "    \n",
    "    return horoscope_text"
   ]
  },
  {
   "cell_type": "code",
   "execution_count": null,
   "id": "d200ad03",
   "metadata": {},
   "outputs": [
    {
     "name": "stderr",
     "output_type": "stream",
     "text": [
      "/bin/sh: line 1: google-chrome: command not found\n",
      "/bin/sh: line 1: google-chrome: command not found\n"
     ]
    }
   ],
   "source": [
    "get_horoscope()"
   ]
  },
  {
   "cell_type": "code",
   "execution_count": null,
   "id": "ffadd66a",
   "metadata": {},
   "outputs": [],
   "source": []
  }
 ],
 "metadata": {
  "kernelspec": {
   "display_name": "Python 3 (ipykernel)",
   "language": "python",
   "name": "python3"
  },
  "language_info": {
   "codemirror_mode": {
    "name": "ipython",
    "version": 3
   },
   "file_extension": ".py",
   "mimetype": "text/x-python",
   "name": "python",
   "nbconvert_exporter": "python",
   "pygments_lexer": "ipython3",
   "version": "3.11.5"
  }
 },
 "nbformat": 4,
 "nbformat_minor": 5
}
