{
 "cells": [
  {
   "cell_type": "code",
   "execution_count": 2,
   "id": "e8fa4424",
   "metadata": {},
   "outputs": [
    {
     "name": "stderr",
     "output_type": "stream",
     "text": [
      "/bin/sh: line 1: google-chrome: command not found\n",
      "/bin/sh: line 1: google-chrome: command not found\n"
     ]
    },
    {
     "name": "stdout",
     "output_type": "stream",
     "text": [
      "Meaning of melancholy: a gloomy state of mind, especially when habitual or prolonged; depression.\n",
      "sober thoughtfulness; pensiveness.\n"
     ]
    }
   ],
   "source": [
    "from selenium import webdriver\n",
    "from selenium.webdriver.common.keys import Keys\n",
    "from selenium.webdriver.common.by import By\n",
    "from selenium.webdriver.support.ui import WebDriverWait\n",
    "from selenium.webdriver.support import expected_conditions as EC\n",
    "from selenium.webdriver.chrome.service import Service\n",
    "from webdriver_manager.chrome import ChromeDriverManager\n",
    "from selenium.webdriver.chrome.options import Options\n",
    "from selenium.webdriver.common.desired_capabilities import DesiredCapabilities\n",
    "import time\n",
    "\n",
    "def scrape_meaning(word):\n",
    "    # Path to the uBlock Origin .crx file\n",
    "    ublock_path = 'uBlock-Origin.crx'\n",
    "\n",
    "    chrome_options = Options()\n",
    "    chrome_options.add_extension(ublock_path)\n",
    "    chrome_options.set_capability(\"pageLoadStrategy\", \"eager\")\n",
    "    \n",
    "    driver = webdriver.Chrome(service=Service(ChromeDriverManager().install()), options=chrome_options)\n",
    "    driver.get(\"https://www.dictionary.com\")\n",
    "        \n",
    "    try:\n",
    "        # Find the search box and enter the location\n",
    "        search_box = WebDriverWait(driver, 10).until(\n",
    "            EC.presence_of_element_located((By.ID, \"global-search\"))\n",
    "        )\n",
    "        search_box.send_keys(word)\n",
    "        time.sleep(1)\n",
    "        search_box.send_keys(Keys.RETURN)\n",
    "        \n",
    "        ol_elements = driver.find_elements(By.CSS_SELECTOR, \"div[data-type='word-definitions'] ol\")\n",
    "        ol_text = [ol.text for ol in ol_elements]\n",
    "        \n",
    "        return ol_text[0]\n",
    "    except:\n",
    "        return None\n",
    "\n",
    "    finally:\n",
    "        driver.quit()\n",
    "\n",
    "word = \"melancholy\"\n",
    "meaning = scrape_meaning(word)\n",
    "print(f\"Meaning of {word}: {meaning}\")"
   ]
  },
  {
   "cell_type": "code",
   "execution_count": null,
   "id": "1f80e1d2",
   "metadata": {},
   "outputs": [],
   "source": []
  }
 ],
 "metadata": {
  "kernelspec": {
   "display_name": "Python 3 (ipykernel)",
   "language": "python",
   "name": "python3"
  },
  "language_info": {
   "codemirror_mode": {
    "name": "ipython",
    "version": 3
   },
   "file_extension": ".py",
   "mimetype": "text/x-python",
   "name": "python",
   "nbconvert_exporter": "python",
   "pygments_lexer": "ipython3",
   "version": "3.11.5"
  }
 },
 "nbformat": 4,
 "nbformat_minor": 5
}
