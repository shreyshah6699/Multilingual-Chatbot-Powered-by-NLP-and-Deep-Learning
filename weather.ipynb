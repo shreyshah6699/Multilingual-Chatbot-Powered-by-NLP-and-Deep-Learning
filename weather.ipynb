{
 "cells": [
  {
   "cell_type": "code",
   "execution_count": 1,
   "id": "62efa761",
   "metadata": {},
   "outputs": [
    {
     "name": "stderr",
     "output_type": "stream",
     "text": [
      "/bin/sh: line 1: google-chrome: command not found\n",
      "/bin/sh: line 1: google-chrome: command not found\n"
     ]
    },
    {
     "name": "stdout",
     "output_type": "stream",
     "text": [
      "Temperature: 57\n"
     ]
    }
   ],
   "source": [
    "from selenium import webdriver\n",
    "from selenium.webdriver.common.keys import Keys\n",
    "from selenium.webdriver.common.by import By\n",
    "from selenium.webdriver.support.ui import WebDriverWait\n",
    "from selenium.webdriver.support import expected_conditions as EC\n",
    "from selenium.webdriver.chrome.service import Service\n",
    "from webdriver_manager.chrome import ChromeDriverManager\n",
    "from selenium.webdriver.chrome.options import Options\n",
    "import time\n",
    "\n",
    "def get_weather(city, state):\n",
    "    city = input(\"Enter City: \")\n",
    "    state = input(\"Enter State: \")\n",
    "    temperature = get_weather(city, state)\n",
    "    \n",
    "    ublock_path = 'uBlock-Origin.crx'\n",
    "\n",
    "    chrome_options = Options()\n",
    "    chrome_options.add_extension(ublock_path)\n",
    "\n",
    "    driver = webdriver.Chrome(service=Service(ChromeDriverManager().install()), options=chrome_options)    # driver.set_page_load_timeout(10)  # Set the timeout\n",
    "    driver.get(\"https://www.wunderground.com/\")\n",
    "\n",
    "    try:\n",
    "        # Find the search box and enter the location\n",
    "        search_box = WebDriverWait(driver, 10).until(\n",
    "            EC.presence_of_element_located((By.NAME, \"query\"))\n",
    "        )\n",
    "        search_box.send_keys(f\"{city}, {state}\")\n",
    "        time.sleep(1)\n",
    "        search_box.send_keys(Keys.RETURN)\n",
    "        \n",
    "        temperature_container = driver.find_element(By.CLASS_NAME, \"current-temp\")\n",
    "        temperature = temperature_container.find_element(By.CSS_SELECTOR, \".wu-value.wu-value-to\").text.strip()\n",
    "        return temperature\n",
    "    finally:\n",
    "        driver.quit()"
   ]
  },
  {
   "cell_type": "code",
   "execution_count": null,
   "id": "ce7d29bb",
   "metadata": {},
   "outputs": [],
   "source": []
  }
 ],
 "metadata": {
  "kernelspec": {
   "display_name": "Python 3 (ipykernel)",
   "language": "python",
   "name": "python3"
  },
  "language_info": {
   "codemirror_mode": {
    "name": "ipython",
    "version": 3
   },
   "file_extension": ".py",
   "mimetype": "text/x-python",
   "name": "python",
   "nbconvert_exporter": "python",
   "pygments_lexer": "ipython3",
   "version": "3.11.5"
  }
 },
 "nbformat": 4,
 "nbformat_minor": 5
}
