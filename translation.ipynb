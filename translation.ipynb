{
 "cells": [
  {
   "cell_type": "code",
   "execution_count": 1,
   "id": "05d010a9",
   "metadata": {},
   "outputs": [],
   "source": [
    "import torch\n",
    "from transformers import M2M100ForConditionalGeneration, M2M100Tokenizer\n",
    "\n",
    "# Check for GPU availability\n",
    "device = torch.device(\"cuda\" if torch.cuda.is_available() else \"cpu\")\n",
    "\n",
    "# Load the model and tokenizer\n",
    "model_name = \"facebook/m2m100_418M\"\n",
    "model = M2M100ForConditionalGeneration.from_pretrained(model_name).to(device)\n",
    "tokenizer = M2M100Tokenizer.from_pretrained(model_name)"
   ]
  },
  {
   "cell_type": "code",
   "execution_count": 2,
   "id": "8faa4b34",
   "metadata": {},
   "outputs": [],
   "source": [
    "def translate_text(text, src_lang, tgt_lang):\n",
    "    # Set the tokenizer's source language\n",
    "    tokenizer.src_lang = src_lang\n",
    "    \n",
    "    # Tokenizer optimization: Adjusting the maximum length\n",
    "    max_length = 128\n",
    "    encoded_text = tokenizer(text, return_tensors=\"pt\", max_length=max_length, truncation=True).to(device)\n",
    "\n",
    "    # Specify the forced_bos_token_id in the generate() method instead of modifying the model config\n",
    "    forced_bos_token_id = tokenizer.lang_code_to_id[tgt_lang]\n",
    "\n",
    "    # Generate translation using the model\n",
    "    generated_tokens = model.generate(**encoded_text, forced_bos_token_id=forced_bos_token_id)\n",
    "\n",
    "    # Decode the generated tokens to get the translated text\n",
    "    return tokenizer.decode(generated_tokens[0], skip_special_tokens=True)"
   ]
  },
  {
   "cell_type": "code",
   "execution_count": 9,
   "id": "71675abc",
   "metadata": {},
   "outputs": [
    {
     "data": {
      "text/plain": [
       "'आज 57 फीसदी तापमान के साथ बारिश होगी।'"
      ]
     },
     "execution_count": 9,
     "metadata": {},
     "output_type": "execute_result"
    }
   ],
   "source": [
    "# Text to be translated (example in Hindi)\n",
    "text = \"It will rain today with 57F temperature\"\n",
    "# Define the source and target languages\n",
    "src_lang = \"en\"\n",
    "tgt_lang = \"hi\"\n",
    "translate_text(text, src_lang, tgt_lang)"
   ]
  },
  {
   "cell_type": "code",
   "execution_count": null,
   "id": "4d3d0778",
   "metadata": {},
   "outputs": [],
   "source": []
  }
 ],
 "metadata": {
  "kernelspec": {
   "display_name": "Python 3 (ipykernel)",
   "language": "python",
   "name": "python3"
  },
  "language_info": {
   "codemirror_mode": {
    "name": "ipython",
    "version": 3
   },
   "file_extension": ".py",
   "mimetype": "text/x-python",
   "name": "python",
   "nbconvert_exporter": "python",
   "pygments_lexer": "ipython3",
   "version": "3.11.5"
  }
 },
 "nbformat": 4,
 "nbformat_minor": 5
}
